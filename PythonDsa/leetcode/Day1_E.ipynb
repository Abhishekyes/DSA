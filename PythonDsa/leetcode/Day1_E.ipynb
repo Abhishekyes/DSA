{
 "cells": [
  {
   "cell_type": "markdown",
   "metadata": {},
   "source": []
  },
  {
   "cell_type": "code",
   "execution_count": 6,
   "metadata": {},
   "outputs": [
    {
     "name": "stdout",
     "output_type": "stream",
     "text": [
      "[1, 2, 2, 3, 5, 6]\n"
     ]
    }
   ],
   "source": [
    "# 88. Merge Sorted Array\n",
    "\n",
    "class Solution(object):\n",
    "    def merge(self, nums1, m, nums2, n):\n",
    "        \n",
    "        \n",
    "        \"\"\"\n",
    "        :type nums1: List[int]\n",
    "        :type m: int\n",
    "        :type nums2: List[int]\n",
    "        :type n: int\n",
    "        :rtype: None Do not return anything, modify nums1 in-place instead.\n",
    "        \"\"\"\n",
    "        i,j,k = m-1,n-1,m+n-1\n",
    "        while i>=0 and j>=0:\n",
    "            if nums1[i]>nums2[j]:\n",
    "                nums1[k]=nums1[i]\n",
    "                i -= 1\n",
    "            else:\n",
    "                nums1[k]=nums2[j]\n",
    "                j -= 1\n",
    "            k -= 1\n",
    "\n",
    "        while j >= 0:\n",
    "            nums1[k]=nums2[j]\n",
    "            j -=1\n",
    "            k-=1\n",
    "        \n",
    "\n",
    "\n",
    "M = Solution()\n",
    "\n",
    "nums1 = [1,2,3,0,0,0]\n",
    "m = 3\n",
    "nums2 = [2,5,6]\n",
    "n = 3\n",
    "M.merge(nums1, m, nums2, n)\n",
    "print(nums1)  # Output: [1,2,2,3,5,6]\n",
    "\n",
    "\n",
    "        "
   ]
  },
  {
   "cell_type": "code",
   "execution_count": null,
   "metadata": {},
   "outputs": [
    {
     "data": {
      "text/plain": [
       "(2, [2, 2])"
      ]
     },
     "execution_count": 9,
     "metadata": {},
     "output_type": "execute_result"
    }
   ],
   "source": [
    "# 27. Remove Element\n",
    "class Solution(object):\n",
    "    def removeElement(self, nums, val):\n",
    "        \"\"\"\n",
    "        :type nums: List[int]\n",
    "        :type val: int\n",
    "        :rtype: int\n",
    "        [0,1,2,2,3,0,4,2]\n",
    "\n",
    "        \"\"\"\n",
    "        k = 0\n",
    "        for i in range(len(nums)):\n",
    "            if nums[i] != val:         # check \n",
    "                nums[k] = nums[i]       # update index value non equal value\n",
    "                k +=1                   # also count how much \n",
    "\n",
    "        return k,nums[:k]               # return num also till the k valid num\n",
    "            \n",
    "s = Solution()\n",
    "nums =[3,2,2,3]\n",
    "val = 3\n",
    "s.removeElement(nums,val)\n",
    "\n",
    "        "
   ]
  },
  {
   "cell_type": "code",
   "execution_count": null,
   "metadata": {},
   "outputs": [],
   "source": [
    "# 26. Remove Duplicates from Sorted Array\n",
    "class Solution(object):\n",
    "    def removeDuplicates(self, nums):\n",
    "        \"\"\"\n",
    "        :type nums: List[int]\n",
    "        :rtype: int\n",
    "        \"\"\"\n",
    "        see = set()\n",
    "        k = 0\n",
    "        for i in range(len(nums)):\n",
    "            if nums[i] not in see:\n",
    "                see.add(nums[i])\n",
    "                nums[k] = nums[i]\n",
    "                k += 1\n",
    "        return k\n",
    "        "
   ]
  },
  {
   "cell_type": "code",
   "execution_count": null,
   "metadata": {},
   "outputs": [
    {
     "name": "stdout",
     "output_type": "stream",
     "text": [
      "5 [0, 1, 4, 3, 2]\n"
     ]
    }
   ],
   "source": [
    "# 26. Remove Duplicates from unSorted Array\n",
    "class Solution(object):\n",
    "    def removeDuplicates(self, nums):\n",
    "        \"\"\"\n",
    "        :type nums: List[int]\n",
    "        :rtype: int\n",
    "        \"\"\"\n",
    "        if not nums:\n",
    "            return 0  # If the list is empty, return 0\n",
    "        \n",
    "        see = set()\n",
    "\n",
    "        k = 0  # Pointer to track the index of unique elements\n",
    "        \n",
    "        for i in range(len(nums)):  # Start iterating from index 1\n",
    "            if nums[i] not in see:  # If a new unique element is found\n",
    "                see.add(nums[i])\n",
    "                nums[k] = nums[i]  # Move it to the correct position\n",
    "                k += 1  # Increment k\n",
    "        \n",
    "        return k  # Return the count of unique elements\n",
    "\n",
    "\n",
    "nums = [0,0,1,4,3,1,2,1,1,2,2,3,3,4]\n",
    "sol = Solution()\n",
    "k = sol.removeDuplicates(nums)\n",
    "print(k, nums[:k])  \n"
   ]
  },
  {
   "cell_type": "code",
   "execution_count": null,
   "metadata": {},
   "outputs": [
    {
     "name": "stdout",
     "output_type": "stream",
     "text": [
      "12 [0, 0, 1, 4, 3, 1, 2, 1, 2, 3, 3, 4]\n"
     ]
    }
   ],
   "source": [
    "# 80. Remove Duplicates from Sorted Array II\n",
    "class Solution(object):\n",
    "    def removeDuplicates(self, nums):\n",
    "        \"\"\"\n",
    "        :type nums: List[int]\n",
    "        :rtype: int\n",
    "        \"\"\"\n",
    "        if len(nums)<= 2:\n",
    "            return len(nums)\n",
    "        k = 2\n",
    "        for i in range(2,len(nums)):\n",
    "            if nums[i] != nums[k-2]:      # check 1st and third nbecause shorted\n",
    "                nums[k] = nums[i]\n",
    "                k+=1\n",
    "        return k\n",
    "       \n",
    "        \n",
    "\n",
    "\n",
    "\n",
    "\n",
    "nums = [0,0,1,4,3,1,2,1,1,2,2,3,3,4]\n",
    "sol = Solution()\n",
    "k = sol.removeDuplicates(nums)\n",
    "print(k, nums[:k])  \n",
    "  "
   ]
  },
  {
   "cell_type": "code",
   "execution_count": null,
   "metadata": {},
   "outputs": [],
   "source": []
  }
 ],
 "metadata": {
  "kernelspec": {
   "display_name": "Python 3",
   "language": "python",
   "name": "python3"
  },
  "language_info": {
   "codemirror_mode": {
    "name": "ipython",
    "version": 3
   },
   "file_extension": ".py",
   "mimetype": "text/x-python",
   "name": "python",
   "nbconvert_exporter": "python",
   "pygments_lexer": "ipython3",
   "version": "3.13.2"
  }
 },
 "nbformat": 4,
 "nbformat_minor": 2
}
